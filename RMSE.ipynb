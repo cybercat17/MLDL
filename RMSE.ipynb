{
  "nbformat": 4,
  "nbformat_minor": 0,
  "metadata": {
    "colab": {
      "name": "RMSE.ipynb",
      "version": "0.3.2",
      "provenance": [],
      "include_colab_link": true
    },
    "kernelspec": {
      "name": "python3",
      "display_name": "Python 3"
    }
  },
  "cells": [
    {
      "cell_type": "markdown",
      "metadata": {
        "id": "view-in-github",
        "colab_type": "text"
      },
      "source": [
        "<a href=\"https://colab.research.google.com/github/cybercat17/MLDL/blob/master/RMSE.ipynb\" target=\"_parent\"><img src=\"https://colab.research.google.com/assets/colab-badge.svg\" alt=\"Open In Colab\"/></a>"
      ]
    },
    {
      "cell_type": "code",
      "metadata": {
        "id": "ZiRjSySHTyUG",
        "colab_type": "code",
        "colab": {}
      },
      "source": [
        "import numpy as np\n",
        "\n",
        "ab = [3, 76]"
      ],
      "execution_count": 0,
      "outputs": []
    },
    {
      "cell_type": "code",
      "metadata": {
        "id": "6ehz1tkWT9an",
        "colab_type": "code",
        "colab": {}
      },
      "source": [
        "data = [[2, 81], [4, 93], [6, 91], [8, 97]]\n",
        "\n",
        "x = [d[0] for d in data]\n",
        "y = [d[1] for d in data]"
      ],
      "execution_count": 0,
      "outputs": []
    },
    {
      "cell_type": "code",
      "metadata": {
        "id": "twg4qFcGUJKN",
        "colab_type": "code",
        "colab": {}
      },
      "source": [
        "def predict(x):\n",
        "  return ab[0]*x + ab[1]"
      ],
      "execution_count": 0,
      "outputs": []
    },
    {
      "cell_type": "code",
      "metadata": {
        "id": "eyBFKO8IUPOl",
        "colab_type": "code",
        "colab": {}
      },
      "source": [
        "def rmse(p, a):\n",
        "  return np.sqrt(((p-a)**2).mean())"
      ],
      "execution_count": 0,
      "outputs": []
    },
    {
      "cell_type": "code",
      "metadata": {
        "id": "szfjCjzhUsdG",
        "colab_type": "code",
        "colab": {}
      },
      "source": [
        "def rmse_val(pred, y):\n",
        "  return rmse(np.array(pred), np.array(y))"
      ],
      "execution_count": 0,
      "outputs": []
    },
    {
      "cell_type": "code",
      "metadata": {
        "id": "bBoFcnteU2Ku",
        "colab_type": "code",
        "colab": {
          "base_uri": "https://localhost:8080/",
          "height": 35
        },
        "outputId": "75329311-1cac-4253-84f7-459c4d6f79b2"
      },
      "source": [
        "pred = []\n",
        "\n",
        "for i in range(len(x)):\n",
        "  pred.append(predict(x[i]))\n",
        "  \n",
        "print('rmse : {}'.format(rmse_val(pred, y)))"
      ],
      "execution_count": 7,
      "outputs": [
        {
          "output_type": "stream",
          "text": [
            "rmse : 3.3166247903554\n"
          ],
          "name": "stdout"
        }
      ]
    }
  ]
}