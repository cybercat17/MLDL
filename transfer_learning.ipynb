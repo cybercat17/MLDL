{
  "nbformat": 4,
  "nbformat_minor": 0,
  "metadata": {
    "colab": {
      "name": "transfer_learning.ipynb",
      "version": "0.3.2",
      "provenance": [],
      "collapsed_sections": [],
      "include_colab_link": true
    },
    "kernelspec": {
      "name": "python3",
      "display_name": "Python 3"
    }
  },
  "cells": [
    {
      "cell_type": "markdown",
      "metadata": {
        "id": "view-in-github",
        "colab_type": "text"
      },
      "source": [
        "<a href=\"https://colab.research.google.com/github/cybercat17/MLDL/blob/master/transfer_learning.ipynb\" target=\"_parent\"><img src=\"https://colab.research.google.com/assets/colab-badge.svg\" alt=\"Open In Colab\"/></a>"
      ]
    },
    {
      "cell_type": "markdown",
      "metadata": {
        "id": "GL8P4-ZYo2X5",
        "colab_type": "text"
      },
      "source": [
        "## Downloading Datasets"
      ]
    },
    {
      "cell_type": "code",
      "metadata": {
        "id": "PJwt0ulZo5CJ",
        "colab_type": "code",
        "colab": {}
      },
      "source": [
        "!kaggle datasets download -d dansbecker/dogs-gone-sideways\n",
        "# unzip it here"
      ],
      "execution_count": 0,
      "outputs": []
    },
    {
      "cell_type": "markdown",
      "metadata": {
        "id": "0a6XmEIgnIAk",
        "colab_type": "text"
      },
      "source": [
        "## Specifying the Model"
      ]
    },
    {
      "cell_type": "code",
      "metadata": {
        "id": "JA-GE4Ikm2-b",
        "colab_type": "code",
        "colab": {}
      },
      "source": [
        "from keras.applications import ResNet50\n",
        "from keras.models import Sequential\n",
        "from keras.layers import Dense\n",
        "\n",
        "resnet_weights_path = '/content/resnet-50/resnet50_weights_tf_dim_ordering_tf_kernels_notop.h5'\n",
        "\n",
        "num_classes = 2\n",
        "\n",
        "model = Sequential()\n",
        "model.add(ResNet50(include_top=False, pooling='avg', weights=resnet_weights_path))\n",
        "model.add(Dense(num_classes, activation='softmax'))\n",
        "\n",
        "model.layers[0].trainable = False"
      ],
      "execution_count": 0,
      "outputs": []
    },
    {
      "cell_type": "markdown",
      "metadata": {
        "id": "xt1-4BYHoRKZ",
        "colab_type": "text"
      },
      "source": [
        "## Compiling the Model"
      ]
    },
    {
      "cell_type": "code",
      "metadata": {
        "id": "XNuBq1N8n2BC",
        "colab_type": "code",
        "colab": {}
      },
      "source": [
        "model.compile(optimizer='sgd', loss='categorical_crossentropy', metrics=['accuracy'])"
      ],
      "execution_count": 0,
      "outputs": []
    },
    {
      "cell_type": "markdown",
      "metadata": {
        "id": "5jN3daWeobqF",
        "colab_type": "text"
      },
      "source": [
        "## Fitting the Model"
      ]
    },
    {
      "cell_type": "code",
      "metadata": {
        "id": "U8LFAH7dozqq",
        "colab_type": "code",
        "colab": {
          "base_uri": "https://localhost:8080/",
          "height": 190
        },
        "outputId": "82adb3e1-dd23-4146-d4b6-c3f9c41867d4"
      },
      "source": [
        "from keras.preprocessing.image import ImageDataGenerator\n",
        "from keras.applications.resnet50 import preprocess_input\n",
        "\n",
        "train_dir = '/content/dogs-gone-sideways/images/train/'\n",
        "valid_dir = '/content/dogs-gone-sideways/images/val'\n",
        "\n",
        "img_size = 224\n",
        "data_generator = ImageDataGenerator(preprocess_input)\n",
        "\n",
        "train_generator = data_generator.flow_from_directory(directory = train_dir,\n",
        "                                                     target_size = (img_size, img_size),\n",
        "                                                     batch_size = 10,\n",
        "                                                     class_mode = 'categorical')\n",
        "\n",
        "valid_generator = data_generator.flow_from_directory(directory = valid_dir,\n",
        "                                                     target_size = (img_size, img_size),\n",
        "                                                     class_mode = 'categorical')\n",
        "\n",
        "fit_stats = model.fit_generator(train_generator,\n",
        "                      steps_per_epoch = 22,\n",
        "                      validation_data = valid_generator,\n",
        "                      validation_steps=1)"
      ],
      "execution_count": 18,
      "outputs": [
        {
          "output_type": "stream",
          "text": [
            "Found 220 images belonging to 2 classes.\n",
            "Found 217 images belonging to 2 classes.\n",
            "WARNING:tensorflow:From /usr/local/lib/python3.6/dist-packages/tensorflow/python/ops/math_ops.py:3066: to_int32 (from tensorflow.python.ops.math_ops) is deprecated and will be removed in a future version.\n",
            "Instructions for updating:\n",
            "Use tf.cast instead.\n",
            "Epoch 1/1\n"
          ],
          "name": "stdout"
        },
        {
          "output_type": "stream",
          "text": [
            "/usr/local/lib/python3.6/dist-packages/keras_preprocessing/image/image_data_generator.py:699: UserWarning: This ImageDataGenerator specifies `featurewise_center`, but it hasn't been fit on any training data. Fit it first by calling `.fit(numpy_data)`.\n",
            "  warnings.warn('This ImageDataGenerator specifies '\n"
          ],
          "name": "stderr"
        },
        {
          "output_type": "stream",
          "text": [
            "22/22 [==============================] - 77s 4s/step - loss: 0.5206 - acc: 0.7227 - val_loss: 0.3890 - val_acc: 0.7812\n"
          ],
          "name": "stdout"
        }
      ]
    }
  ]
}