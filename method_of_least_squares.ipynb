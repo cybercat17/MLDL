{
  "nbformat": 4,
  "nbformat_minor": 0,
  "metadata": {
    "colab": {
      "name": "method_of_least_squares.ipynb",
      "version": "0.3.2",
      "provenance": [],
      "include_colab_link": true
    },
    "kernelspec": {
      "name": "python3",
      "display_name": "Python 3"
    }
  },
  "cells": [
    {
      "cell_type": "markdown",
      "metadata": {
        "id": "view-in-github",
        "colab_type": "text"
      },
      "source": [
        "<a href=\"https://colab.research.google.com/github/cybercat17/MLDL/blob/master/method_of_least_squares.ipynb\" target=\"_parent\"><img src=\"https://colab.research.google.com/assets/colab-badge.svg\" alt=\"Open In Colab\"/></a>"
      ]
    },
    {
      "cell_type": "code",
      "metadata": {
        "id": "vLjH2naMRS8m",
        "colab_type": "code",
        "colab": {}
      },
      "source": [
        "import numpy as np\n",
        "\n",
        "x = [2, 4, 6, 8]\n",
        "y = [81, 93, 91, 97]"
      ],
      "execution_count": 0,
      "outputs": []
    },
    {
      "cell_type": "code",
      "metadata": {
        "id": "Zrmm92p2Rl6O",
        "colab_type": "code",
        "colab": {}
      },
      "source": [
        "mx = np.mean(x)\n",
        "my = np.mean(y)"
      ],
      "execution_count": 0,
      "outputs": []
    },
    {
      "cell_type": "code",
      "metadata": {
        "id": "DEUfV78aR4oN",
        "colab_type": "code",
        "colab": {}
      },
      "source": [
        "divisor = sum([(i-mx)**2 for i in x])"
      ],
      "execution_count": 0,
      "outputs": []
    },
    {
      "cell_type": "code",
      "metadata": {
        "id": "gf2tp60ISJXl",
        "colab_type": "code",
        "colab": {}
      },
      "source": [
        "def top(x, mx, y, my):\n",
        "  ret = 0\n",
        "  for i in range(len(x)):\n",
        "    ret += (x[i]-mx) * (y[i]-my)\n",
        "  return ret"
      ],
      "execution_count": 0,
      "outputs": []
    },
    {
      "cell_type": "code",
      "metadata": {
        "id": "P2Zyb1qMSak1",
        "colab_type": "code",
        "colab": {}
      },
      "source": [
        "dividend = top(x, mx, y, my)"
      ],
      "execution_count": 0,
      "outputs": []
    },
    {
      "cell_type": "code",
      "metadata": {
        "id": "cfpaUvymSeMu",
        "colab_type": "code",
        "colab": {}
      },
      "source": [
        "a = dividend / divisor"
      ],
      "execution_count": 0,
      "outputs": []
    },
    {
      "cell_type": "code",
      "metadata": {
        "id": "MYyAIQNsShn2",
        "colab_type": "code",
        "colab": {}
      },
      "source": [
        "b = my - (mx * a)"
      ],
      "execution_count": 0,
      "outputs": []
    },
    {
      "cell_type": "code",
      "metadata": {
        "id": "ppR14ednSj--",
        "colab_type": "code",
        "colab": {
          "base_uri": "https://localhost:8080/",
          "height": 53
        },
        "outputId": "0ac64e2f-abed-4c6f-e2d4-30e6633fc4c3"
      },
      "source": [
        "print('a : {}\\nb : {}'.format(a, b))"
      ],
      "execution_count": 9,
      "outputs": [
        {
          "output_type": "stream",
          "text": [
            "a : 2.3\n",
            "b : 79.0\n"
          ],
          "name": "stdout"
        }
      ]
    }
  ]
}