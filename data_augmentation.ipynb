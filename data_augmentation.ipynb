{
  "nbformat": 4,
  "nbformat_minor": 0,
  "metadata": {
    "colab": {
      "name": "data_augmentation.ipynb",
      "version": "0.3.2",
      "provenance": [],
      "include_colab_link": true
    },
    "kernelspec": {
      "name": "python3",
      "display_name": "Python 3"
    }
  },
  "cells": [
    {
      "cell_type": "markdown",
      "metadata": {
        "id": "view-in-github",
        "colab_type": "text"
      },
      "source": [
        "<a href=\"https://colab.research.google.com/github/cybercat17/MLDL/blob/master/data_augmentation.ipynb\" target=\"_parent\"><img src=\"https://colab.research.google.com/assets/colab-badge.svg\" alt=\"Open In Colab\"/></a>"
      ]
    },
    {
      "cell_type": "markdown",
      "metadata": {
        "id": "psmxjbgm7m6v",
        "colab_type": "text"
      },
      "source": [
        "## Setting Up"
      ]
    },
    {
      "cell_type": "code",
      "metadata": {
        "id": "m65I1SK06RpS",
        "colab_type": "code",
        "colab": {
          "base_uri": "https://localhost:8080/",
          "height": 105
        },
        "outputId": "d22cd62c-d571-4125-e756-d33f45b56574"
      },
      "source": [
        "from keras.applications import ResNet50\n",
        "from keras.models import Sequential\n",
        "from keras.layers import Dense\n",
        "\n",
        "num_classes = 2\n",
        "resnet_weights_notop = '/content/resnet-50/resnet50_weights_tf_dim_ordering_tf_kernels_notop.h5'\n",
        "\n",
        "model = Sequential()\n",
        "model.add(ResNet50(include_top=False, pooling='avg', weights=resnet_weights_notop))\n",
        "model.add(Dense(num_classes, activation='softmax'))\n",
        "\n",
        "model.layers[0].trainable = False\n",
        "\n",
        "model.compile(optimizer='sgd', loss='categorical_crossentropy', metrics=['accuracy'])"
      ],
      "execution_count": 1,
      "outputs": [
        {
          "output_type": "stream",
          "text": [
            "Using TensorFlow backend.\n"
          ],
          "name": "stderr"
        },
        {
          "output_type": "stream",
          "text": [
            "WARNING:tensorflow:From /usr/local/lib/python3.6/dist-packages/tensorflow/python/framework/op_def_library.py:263: colocate_with (from tensorflow.python.framework.ops) is deprecated and will be removed in a future version.\n",
            "Instructions for updating:\n",
            "Colocations handled automatically by placer.\n"
          ],
          "name": "stdout"
        }
      ]
    },
    {
      "cell_type": "markdown",
      "metadata": {
        "id": "1-A7TiVo7zy6",
        "colab_type": "text"
      },
      "source": [
        "## Fitting Data with Data Augmentation"
      ]
    },
    {
      "cell_type": "code",
      "metadata": {
        "id": "rra57-QI73Sr",
        "colab_type": "code",
        "colab": {}
      },
      "source": [
        "from keras.applications.resnet50 import preprocess_input\n",
        "from keras.preprocessing.image import ImageDataGenerator\n",
        "\n",
        "data_generator_aug = ImageDataGenerator(preprocessing_function=preprocess_input,   # for training\n",
        "                                    horizontal_flip=True,\n",
        "                                    width_shift_range=0.1,\n",
        "                                    height_shift_range=0.1)\n",
        "\n",
        "data_generator_noaug = ImageDataGenerator(preprocessing_function=preprocess_input) # for validation"
      ],
      "execution_count": 0,
      "outputs": []
    },
    {
      "cell_type": "markdown",
      "metadata": {
        "id": "z0OFdbRo8Rkg",
        "colab_type": "text"
      },
      "source": [
        "## Fitting the Model - With Data Augmentation"
      ]
    },
    {
      "cell_type": "code",
      "metadata": {
        "id": "3rMSAuzD8fLw",
        "colab_type": "code",
        "colab": {
          "base_uri": "https://localhost:8080/",
          "height": 190
        },
        "outputId": "649320e7-9dfd-4af1-dc4a-7fdd13dce2d6"
      },
      "source": [
        "img_size = 224\n",
        "\n",
        "train_generator = data_generator_aug.flow_from_directory(\n",
        "    directory='/content/dogs-gone-sideways/images/train/',\n",
        "    target_size=(img_size, img_size),\n",
        "    batch_size=12,\n",
        "    class_mode='categorical'\n",
        ")\n",
        "\n",
        "valid_generator = data_generator_noaug.flow_from_directory(\n",
        "    directory='/content/dogs-gone-sideways/images/val',\n",
        "    target_size=(img_size, img_size),\n",
        "    class_mode='categorical'\n",
        ")\n",
        "\n",
        "model.fit_generator(\n",
        "    train_generator,\n",
        "    epochs=3,\n",
        "    steps_per_epoch=19,\n",
        "    validation_data=valid_generator,\n",
        "    validation_steps=7\n",
        ")"
      ],
      "execution_count": 5,
      "outputs": [
        {
          "output_type": "stream",
          "text": [
            "Found 220 images belonging to 2 classes.\n",
            "Found 217 images belonging to 2 classes.\n",
            "Epoch 1/3\n",
            "19/19 [==============================] - 80s 4s/step - loss: 0.4515 - acc: 0.7715 - val_loss: 0.2632 - val_acc: 0.9062\n",
            "Epoch 2/3\n",
            "19/19 [==============================] - 76s 4s/step - loss: 0.2419 - acc: 0.9038 - val_loss: 0.1549 - val_acc: 0.9688\n",
            "Epoch 3/3\n",
            "19/19 [==============================] - 77s 4s/step - loss: 0.1911 - acc: 0.9214 - val_loss: 0.1602 - val_acc: 0.9375\n"
          ],
          "name": "stdout"
        },
        {
          "output_type": "execute_result",
          "data": {
            "text/plain": [
              "<keras.callbacks.History at 0x7f1852ffee48>"
            ]
          },
          "metadata": {
            "tags": []
          },
          "execution_count": 5
        }
      ]
    },
    {
      "cell_type": "markdown",
      "metadata": {
        "id": "2dLMWz7R91gN",
        "colab_type": "text"
      },
      "source": [
        "## Fitting the Model - Without Data Augmentation"
      ]
    },
    {
      "cell_type": "code",
      "metadata": {
        "id": "oz_MYOud94M3",
        "colab_type": "code",
        "colab": {
          "base_uri": "https://localhost:8080/",
          "height": 173
        },
        "outputId": "0260df19-5a25-494c-b4ea-10b2575e83b9"
      },
      "source": [
        "train_generator = data_generator_noaug.flow_from_directory(\n",
        "    directory='/content/dogs-gone-sideways/images/train/',\n",
        "    target_size=(img_size, img_size),\n",
        "    batch_size=12,\n",
        "    class_mode='categorical'\n",
        ")\n",
        "\n",
        "model.fit_generator(\n",
        "    train_generator,\n",
        "    epochs=3,\n",
        "    steps_per_epoch=19,\n",
        "    validation_data=valid_generator,\n",
        "    validation_steps=7\n",
        ")"
      ],
      "execution_count": 6,
      "outputs": [
        {
          "output_type": "stream",
          "text": [
            "Found 220 images belonging to 2 classes.\n",
            "Epoch 1/3\n",
            "19/19 [==============================] - 138s 7s/step - loss: 0.1062 - acc: 0.9824 - val_loss: 0.1307 - val_acc: 0.9447\n",
            "Epoch 2/3\n",
            "19/19 [==============================] - 134s 7s/step - loss: 0.0933 - acc: 0.9780 - val_loss: 0.1291 - val_acc: 0.9493\n",
            "Epoch 3/3\n",
            "19/19 [==============================] - 135s 7s/step - loss: 0.0741 - acc: 0.9912 - val_loss: 0.1096 - val_acc: 0.9677\n"
          ],
          "name": "stdout"
        },
        {
          "output_type": "execute_result",
          "data": {
            "text/plain": [
              "<keras.callbacks.History at 0x7f1852ffecf8>"
            ]
          },
          "metadata": {
            "tags": []
          },
          "execution_count": 6
        }
      ]
    }
  ]
}