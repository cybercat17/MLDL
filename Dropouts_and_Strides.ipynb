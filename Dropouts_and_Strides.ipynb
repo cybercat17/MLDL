{
  "nbformat": 4,
  "nbformat_minor": 0,
  "metadata": {
    "colab": {
      "name": "Dropouts_and_Strides.ipynb",
      "version": "0.3.2",
      "provenance": [],
      "collapsed_sections": [],
      "include_colab_link": true
    },
    "kernelspec": {
      "name": "python3",
      "display_name": "Python 3"
    }
  },
  "cells": [
    {
      "cell_type": "markdown",
      "metadata": {
        "id": "view-in-github",
        "colab_type": "text"
      },
      "source": [
        "<a href=\"https://colab.research.google.com/github/cybercat17/MLDL/blob/master/Dropouts_and_Strides.ipynb\" target=\"_parent\"><img src=\"https://colab.research.google.com/assets/colab-badge.svg\" alt=\"Open In Colab\"/></a>"
      ]
    },
    {
      "cell_type": "markdown",
      "metadata": {
        "id": "G2JbfCkhONhQ",
        "colab_type": "text"
      },
      "source": [
        "## Preparing data"
      ]
    },
    {
      "cell_type": "code",
      "metadata": {
        "id": "3CHHNli1OvO6",
        "colab_type": "code",
        "colab": {}
      },
      "source": [
        "import numpy as np\n",
        "import pandas as pd\n",
        "from tensorflow import keras\n",
        "\n",
        "img_rows, img_cols = 28, 28\n",
        "num_classes = 10\n",
        "\n",
        "def prep(raw):\n",
        "  y = keras.utils.to_categorical(raw.label, num_classes)\n",
        "  X_array = raw.values[:,1:]\n",
        "  X_shaped = X_array.reshape(raw.shape[0], img_rows, img_cols, 1)\n",
        "  X = X_shaped / 255\n",
        "  return X, y\n",
        "\n",
        "file_path = '/content/fashionmnist/fashion-mnist_train.csv'\n",
        "raw_data = pd.read_csv(file_path)\n",
        "\n",
        "X, y = prep(raw_data)"
      ],
      "execution_count": 0,
      "outputs": []
    },
    {
      "cell_type": "markdown",
      "metadata": {
        "id": "9VEMkR8gPU9X",
        "colab_type": "text"
      },
      "source": [
        "## Defining Model"
      ]
    },
    {
      "cell_type": "code",
      "metadata": {
        "id": "uvbuC8XFPbJr",
        "colab_type": "code",
        "colab": {
          "base_uri": "https://localhost:8080/",
          "height": 153
        },
        "outputId": "5efb1af9-868a-4da7-c023-db90298b59b5"
      },
      "source": [
        "from tensorflow.keras.models import Sequential\n",
        "from tensorflow.keras.layers import Dense, Conv2D, Flatten, Dropout\n",
        "\n",
        "model = Sequential()\n",
        "\n",
        "model.add(Conv2D(16, kernel_size=4, activation='relu', strides=2, input_shape=(img_rows, img_cols, 1)))\n",
        "model.add(Conv2D(16, kernel_size=4, activation='relu', strides=2))\n",
        "model.add(Dropout(0.5))\n",
        "model.add(Conv2D(16, kernel_size=4, activation='relu', strides=2))\n",
        "model.add(Flatten())\n",
        "model.add(Dense(128, activation='relu'))\n",
        "model.add(Dense(num_classes, activation='softmax'))\n",
        "\n",
        "model.compile(loss='categorical_crossentropy', optimizer='adam', metrics=['accuracy'])\n",
        "model.fit(X, y, batch_size=16, epochs=3, validation_split=0.2)"
      ],
      "execution_count": 5,
      "outputs": [
        {
          "output_type": "stream",
          "text": [
            "Train on 48000 samples, validate on 12000 samples\n",
            "Epoch 1/3\n",
            "48000/48000 [==============================] - 20s 408us/sample - loss: 0.7570 - acc: 0.7158 - val_loss: 0.5311 - val_acc: 0.8028\n",
            "Epoch 2/3\n",
            "48000/48000 [==============================] - 19s 395us/sample - loss: 0.5540 - acc: 0.7937 - val_loss: 0.4559 - val_acc: 0.8312\n",
            "Epoch 3/3\n",
            "48000/48000 [==============================] - 19s 398us/sample - loss: 0.5063 - acc: 0.8111 - val_loss: 0.4322 - val_acc: 0.8413\n"
          ],
          "name": "stdout"
        },
        {
          "output_type": "execute_result",
          "data": {
            "text/plain": [
              "<tensorflow.python.keras.callbacks.History at 0x7f4d9fea3c50>"
            ]
          },
          "metadata": {
            "tags": []
          },
          "execution_count": 5
        }
      ]
    }
  ]
}