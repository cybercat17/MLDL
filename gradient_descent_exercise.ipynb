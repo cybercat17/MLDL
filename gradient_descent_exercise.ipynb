{
  "nbformat": 4,
  "nbformat_minor": 0,
  "metadata": {
    "colab": {
      "name": "gradient_descent_exercise.ipynb",
      "version": "0.3.2",
      "provenance": [],
      "include_colab_link": true
    },
    "kernelspec": {
      "name": "python3",
      "display_name": "Python 3"
    }
  },
  "cells": [
    {
      "cell_type": "markdown",
      "metadata": {
        "id": "view-in-github",
        "colab_type": "text"
      },
      "source": [
        "<a href=\"https://colab.research.google.com/github/cybercat17/MLDL/blob/master/gradient_descent_exercise.ipynb\" target=\"_parent\"><img src=\"https://colab.research.google.com/assets/colab-badge.svg\" alt=\"Open In Colab\"/></a>"
      ]
    },
    {
      "cell_type": "code",
      "metadata": {
        "id": "NErOdpGvVjar",
        "colab_type": "code",
        "colab": {}
      },
      "source": [
        "import tensorflow as tf\n",
        "\n",
        "data = [[2, 81], [4, 93], [6, 91], [8, 97]]\n",
        "x = [d[0] for d in data]\n",
        "y = [d[1] for d in data]\n",
        "\n",
        "learning_rate = 0.1"
      ],
      "execution_count": 0,
      "outputs": []
    },
    {
      "cell_type": "code",
      "metadata": {
        "id": "YvNiYQKkVyv5",
        "colab_type": "code",
        "colab": {}
      },
      "source": [
        "a = tf.Variable(tf.random_uniform([1], 0, 10, dtype = tf.float64, seed = 0))\n",
        "b = tf.Variable(tf.random_uniform([1], 0, 100, dtype = tf.float64, seed = 0))\n",
        "\n",
        "\n",
        "res = a * x + b\n",
        "\n",
        "rmse = tf.sqrt(tf.reduce_mean(tf.square(res - y)))"
      ],
      "execution_count": 0,
      "outputs": []
    },
    {
      "cell_type": "code",
      "metadata": {
        "id": "hUT5bSQpXbDs",
        "colab_type": "code",
        "colab": {}
      },
      "source": [
        "gradient_descent = tf.train.GradientDescentOptimizer(learning_rate).minimize(rmse)"
      ],
      "execution_count": 0,
      "outputs": []
    },
    {
      "cell_type": "code",
      "metadata": {
        "id": "UA3K2W6zXodX",
        "colab_type": "code",
        "colab": {
          "base_uri": "https://localhost:8080/",
          "height": 395
        },
        "outputId": "29e0840b-ebeb-4ffe-b985-32278fb2ce45"
      },
      "source": [
        "with tf.Session() as sess:\n",
        "  sess.run(tf.global_variables_initializer())\n",
        "  for step in range(2001):\n",
        "    sess.run(gradient_descent)\n",
        "    if step%100==0:\n",
        "      print('Epoch : {}, rmse : {}, a : {}, b : {}'.format(step, sess.run(rmse), sess.run(a), sess.run(b)))"
      ],
      "execution_count": 10,
      "outputs": [
        {
          "output_type": "stream",
          "text": [
            "Epoch : 0, rmse : 30.213942199096312, a : [7.52346569], b : [80.59835907]\n",
            "Epoch : 100, rmse : 2.8860236717777323, a : [2.22994555], b : [79.41805502]\n",
            "Epoch : 200, rmse : 2.8826088464380675, a : [2.26013532], b : [79.23789538]\n",
            "Epoch : 300, rmse : 2.8815017581729863, a : [2.27732406], b : [79.13532033]\n",
            "Epoch : 400, rmse : 2.8811434133266074, a : [2.2871031], b : [79.0769632]\n",
            "Epoch : 500, rmse : 2.881027483626874, a : [2.29266522], b : [79.04377083]\n",
            "Epoch : 600, rmse : 2.880989985005525, a : [2.29582859], b : [79.02489319]\n",
            "Epoch : 700, rmse : 2.8809778563604618, a : [2.29762766], b : [79.0141571]\n",
            "Epoch : 800, rmse : 2.8809739335110462, a : [2.29865082], b : [79.00805133]\n",
            "Epoch : 900, rmse : 2.8809726647246343, a : [2.2992327], b : [79.00457889]\n",
            "Epoch : 1000, rmse : 2.880972254355579, a : [2.29956363], b : [79.00260407]\n",
            "Epoch : 1100, rmse : 2.880972121628225, a : [2.29975183], b : [79.00148097]\n",
            "Epoch : 1200, rmse : 2.88097207869968, a : [2.29985886], b : [79.00084225]\n",
            "Epoch : 1300, rmse : 2.8809720648151282, a : [2.29991973], b : [79.000479]\n",
            "Epoch : 1400, rmse : 2.8809720603243916, a : [2.29995435], b : [79.00027241]\n",
            "Epoch : 1500, rmse : 2.880972058871934, a : [2.29997404], b : [79.00015492]\n",
            "Epoch : 1600, rmse : 2.8809720584021608, a : [2.29998524], b : [79.00008811]\n",
            "Epoch : 1700, rmse : 2.8809720582502254, a : [2.2999916], b : [79.00005011]\n",
            "Epoch : 1800, rmse : 2.8809720582010825, a : [2.29999522], b : [79.0000285]\n",
            "Epoch : 1900, rmse : 2.8809720581851854, a : [2.29999728], b : [79.00001621]\n",
            "Epoch : 2000, rmse : 2.8809720581800415, a : [2.29999846], b : [79.00000922]\n"
          ],
          "name": "stdout"
        }
      ]
    },
    {
      "cell_type": "code",
      "metadata": {
        "id": "viDxAdQ0YJr3",
        "colab_type": "code",
        "colab": {}
      },
      "source": [
        ""
      ],
      "execution_count": 0,
      "outputs": []
    }
  ]
}