{
  "nbformat": 4,
  "nbformat_minor": 0,
  "metadata": {
    "colab": {
      "name": "FashionMNIST.ipynb",
      "version": "0.3.2",
      "provenance": [],
      "include_colab_link": true
    },
    "kernelspec": {
      "name": "python3",
      "display_name": "Python 3"
    }
  },
  "cells": [
    {
      "cell_type": "markdown",
      "metadata": {
        "id": "view-in-github",
        "colab_type": "text"
      },
      "source": [
        "<a href=\"https://colab.research.google.com/github/cybercat17/MLDL/blob/master/FashionMNIST.ipynb\" target=\"_parent\"><img src=\"https://colab.research.google.com/assets/colab-badge.svg\" alt=\"Open In Colab\"/></a>"
      ]
    },
    {
      "cell_type": "markdown",
      "metadata": {
        "id": "mo5P0TdhIL-l",
        "colab_type": "text"
      },
      "source": [
        "## Prerequisites"
      ]
    },
    {
      "cell_type": "code",
      "metadata": {
        "id": "DW_9AZ0QIGxB",
        "colab_type": "code",
        "colab": {
          "base_uri": "https://localhost:8080/",
          "height": 68
        },
        "outputId": "91d83b7b-bd1b-4bd0-c7cd-4d4bfe08b543"
      },
      "source": [
        "!kaggle datasets download -d zalando-research/fashionmnist"
      ],
      "execution_count": 1,
      "outputs": [
        {
          "output_type": "stream",
          "text": [
            "Downloading fashionmnist.zip to /content\n",
            " 71% 49.0M/68.8M [00:00<00:00, 55.7MB/s]\n",
            "100% 68.8M/68.8M [00:00<00:00, 78.7MB/s]\n"
          ],
          "name": "stdout"
        }
      ]
    },
    {
      "cell_type": "code",
      "metadata": {
        "id": "JkglqkGyITHi",
        "colab_type": "code",
        "colab": {}
      },
      "source": [
        "!unzip -q fashionmnist.zip -d fashionmnist"
      ],
      "execution_count": 0,
      "outputs": []
    },
    {
      "cell_type": "markdown",
      "metadata": {
        "id": "VChshvYsIWkH",
        "colab_type": "text"
      },
      "source": [
        "## Code"
      ]
    },
    {
      "cell_type": "code",
      "metadata": {
        "id": "hODGlxLwIXj4",
        "colab_type": "code",
        "colab": {}
      },
      "source": [
        "import numpy as np\n",
        "import pandas as pd\n",
        "from tensorflow import keras\n",
        "\n",
        "img_rows, img_cols = 28, 28\n",
        "num_classes = 10\n",
        "\n",
        "def prep(raw):\n",
        "  y = keras.utils.to_categorical(raw.label, num_classes)\n",
        "  \n",
        "  num_images = raw.shape[0]\n",
        "  X_array = raw.values[:,1:]\n",
        "  X_shaped = X_array.reshape(num_images, img_rows, img_cols, 1)\n",
        "  X = X_shaped / 255\n",
        "  return X, y"
      ],
      "execution_count": 0,
      "outputs": []
    },
    {
      "cell_type": "code",
      "metadata": {
        "id": "oDorWG7kJUxG",
        "colab_type": "code",
        "colab": {}
      },
      "source": [
        "train_path = '/content/fashionmnist/fashion-mnist_train.csv'\n",
        "raw_data = pd.read_csv(train_path)\n",
        "X, y = prep(raw_data)"
      ],
      "execution_count": 0,
      "outputs": []
    },
    {
      "cell_type": "code",
      "metadata": {
        "id": "QItYDwNMKAoU",
        "colab_type": "code",
        "colab": {
          "base_uri": "https://localhost:8080/",
          "height": 88
        },
        "outputId": "693bfc45-5b3e-4341-f2c1-90df35ed51e0"
      },
      "source": [
        "from tensorflow.keras.models import Sequential\n",
        "from tensorflow.keras.layers import Dense, Conv2D, Flatten\n",
        "\n",
        "model = Sequential()\n",
        "\n",
        "model.add(Conv2D(20, kernel_size=3, activation='relu', input_shape=(img_rows, img_cols, 1)))\n",
        "model.add(Conv2D(20, kernel_size=3, activation='relu'))\n",
        "model.add(Conv2D(20, kernel_size=3, activation='relu'))\n",
        "model.add(Flatten())\n",
        "model.add(Dense(100, activation='relu'))\n",
        "model.add(Dense(num_classes, activation='softmax'))"
      ],
      "execution_count": 13,
      "outputs": [
        {
          "output_type": "stream",
          "text": [
            "WARNING:tensorflow:From /usr/local/lib/python3.6/dist-packages/tensorflow/python/ops/resource_variable_ops.py:435: colocate_with (from tensorflow.python.framework.ops) is deprecated and will be removed in a future version.\n",
            "Instructions for updating:\n",
            "Colocations handled automatically by placer.\n"
          ],
          "name": "stdout"
        }
      ]
    },
    {
      "cell_type": "code",
      "metadata": {
        "id": "XiZRR7YLKmXB",
        "colab_type": "code",
        "colab": {
          "base_uri": "https://localhost:8080/",
          "height": 258
        },
        "outputId": "c4b42614-5f33-47da-fb76-cd21488fc869"
      },
      "source": [
        "model.compile(loss='categorical_crossentropy', optimizer='adam', metrics=['accuracy'])\n",
        "model.fit(X, y, batch_size=100, epochs=4, validation_split=0.2)"
      ],
      "execution_count": 14,
      "outputs": [
        {
          "output_type": "stream",
          "text": [
            "Train on 48000 samples, validate on 12000 samples\n",
            "WARNING:tensorflow:From /usr/local/lib/python3.6/dist-packages/tensorflow/python/ops/math_ops.py:3066: to_int32 (from tensorflow.python.ops.math_ops) is deprecated and will be removed in a future version.\n",
            "Instructions for updating:\n",
            "Use tf.cast instead.\n",
            "Epoch 1/4\n",
            "48000/48000 [==============================] - 124s 3ms/sample - loss: 0.4661 - acc: 0.8300 - val_loss: 0.3698 - val_acc: 0.8681\n",
            "Epoch 2/4\n",
            "48000/48000 [==============================] - 124s 3ms/sample - loss: 0.2989 - acc: 0.8914 - val_loss: 0.3051 - val_acc: 0.8917\n",
            "Epoch 3/4\n",
            "48000/48000 [==============================] - 125s 3ms/sample - loss: 0.2469 - acc: 0.9086 - val_loss: 0.2756 - val_acc: 0.9040\n",
            "Epoch 4/4\n",
            "48000/48000 [==============================] - 126s 3ms/sample - loss: 0.2077 - acc: 0.9228 - val_loss: 0.2742 - val_acc: 0.9028\n"
          ],
          "name": "stdout"
        },
        {
          "output_type": "execute_result",
          "data": {
            "text/plain": [
              "<tensorflow.python.keras.callbacks.History at 0x7f0bc2e108d0>"
            ]
          },
          "metadata": {
            "tags": []
          },
          "execution_count": 14
        }
      ]
    }
  ]
}